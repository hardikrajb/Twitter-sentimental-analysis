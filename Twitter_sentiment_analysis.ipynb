{
  "cells": [
    {
      "cell_type": "code",
      "execution_count": null,
      "metadata": {
        "colab": {
          "base_uri": "https://localhost:8080/"
        },
        "id": "b-tCpgbP7CsV",
        "outputId": "24bbe63f-c7c4-4842-8eb6-26400eaaeef2"
      },
      "outputs": [
        {
          "output_type": "stream",
          "name": "stdout",
          "text": [
            "Collecting pyspark\n",
            "  Downloading pyspark-3.5.0.tar.gz (316.9 MB)\n",
            "\u001b[2K     \u001b[90m━━━━━━━━━━━━━━━━━━━━━━━━━━━━━━━━━━━━━━━━\u001b[0m \u001b[32m316.9/316.9 MB\u001b[0m \u001b[31m4.2 MB/s\u001b[0m eta \u001b[36m0:00:00\u001b[0m\n",
            "\u001b[?25h  Preparing metadata (setup.py) ... \u001b[?25l\u001b[?25hdone\n",
            "Requirement already satisfied: py4j==0.10.9.7 in /usr/local/lib/python3.10/dist-packages (from pyspark) (0.10.9.7)\n",
            "Building wheels for collected packages: pyspark\n",
            "  Building wheel for pyspark (setup.py) ... \u001b[?25l\u001b[?25hdone\n",
            "  Created wheel for pyspark: filename=pyspark-3.5.0-py2.py3-none-any.whl size=317425344 sha256=abb78a7cef88a4788ee96254f1f69d182cc9b27de01810f3fce7cf9a694560a0\n",
            "  Stored in directory: /root/.cache/pip/wheels/41/4e/10/c2cf2467f71c678cfc8a6b9ac9241e5e44a01940da8fbb17fc\n",
            "Successfully built pyspark\n",
            "Installing collected packages: pyspark\n",
            "Successfully installed pyspark-3.5.0\n"
          ]
        }
      ],
      "source": [
        "!pip install pyspark"
      ]
    },
    {
      "cell_type": "code",
      "execution_count": null,
      "metadata": {
        "id": "-Pir6myY8fFy"
      },
      "outputs": [],
      "source": [
        "from pyspark.sql import SparkSession\n",
        "from pyspark.ml.feature import Tokenizer, StopWordsRemover, CountVectorizer\n",
        "from pyspark.ml.classification import LogisticRegression, NaiveBayes, RandomForestClassifier\n",
        "from pyspark.ml import Pipeline\n",
        "from pyspark.ml.evaluation import MulticlassClassificationEvaluator\n",
        "from pyspark.ml.tuning import ParamGridBuilder, TrainValidationSplit\n",
        "from pyspark.sql.functions import udf\n",
        "from pyspark.sql.types import IntegerType\n",
        "from pyspark.sql.functions import col\n",
        "from pyspark.ml.feature import StringIndexer\n",
        "from pyspark.sql.functions import regexp_replace"
      ]
    },
    {
      "cell_type": "code",
      "execution_count": null,
      "metadata": {
        "id": "PEczOE4m8hO9"
      },
      "outputs": [],
      "source": [
        "spark = SparkSession.builder.appName(\"SentimentAnalysis\").getOrCreate()"
      ]
    },
    {
      "cell_type": "markdown",
      "source": [
        "The given dataset is sentiment"
      ],
      "metadata": {
        "id": "vl0vnCIiiXWu"
      }
    },
    {
      "cell_type": "code",
      "execution_count": null,
      "metadata": {
        "colab": {
          "base_uri": "https://localhost:8080/"
        },
        "id": "OBlC16B88yfZ",
        "outputId": "346a0f06-144b-49ce-e74b-db414a5e000a"
      },
      "outputs": [
        {
          "output_type": "stream",
          "name": "stdout",
          "text": [
            "+-----+--------------------+-------------------------+\n",
            "|Index|  message to examine|label (depression result)|\n",
            "+-----+--------------------+-------------------------+\n",
            "|  106|just had a real g...|                        0|\n",
            "|  217|is reading manga ...|                        0|\n",
            "|  220|@comeagainjen htt...|                        0|\n",
            "|  288|@lapcat Need to s...|                        0|\n",
            "|  540|ADD ME ON MYSPACE...|                        0|\n",
            "|  624|so sleepy. good t...|                        0|\n",
            "|  701|@SilkCharm re: #n...|                        0|\n",
            "|  808|23 or 24ï¿½C poss...|                        0|\n",
            "| 1193|nite twitterville...|                        0|\n",
            "| 1324|@daNanner Night, ...|                        0|\n",
            "| 1332|Good morning ever...|                        0|\n",
            "| 1368|Finally! I just c...|                        0|\n",
            "| 1578|kisha they cnt ge...|                        0|\n",
            "| 1595|@nicolerichie Yes...|                        0|\n",
            "| 1861|I really love ref...|                        0|\n",
            "| 1889|@blueaero ooo it'...|                        0|\n",
            "| 1899|@rokchic28 no pro...|                        0|\n",
            "| 1919|@shipovalov &quot...|                        0|\n",
            "| 1992|Once again stayed...|                        0|\n",
            "| 2097|@Kal_Penn I just ...|                        0|\n",
            "+-----+--------------------+-------------------------+\n",
            "only showing top 20 rows\n",
            "\n"
          ]
        }
      ],
      "source": [
        "df = spark.read.csv(\"/content/sentiment_tweets3.csv\",header=True,inferSchema=True)\n",
        "df.show()"
      ]
    },
    {
      "cell_type": "markdown",
      "source": [
        "Data Preprocessing"
      ],
      "metadata": {
        "id": "7Xf0hiLmlOYS"
      }
    },
    {
      "cell_type": "code",
      "execution_count": null,
      "metadata": {
        "id": "lRWg6vlH9DmW",
        "outputId": "cc1c21cf-d3ec-4ec2-f1c5-ab4f26d63291",
        "colab": {
          "base_uri": "https://localhost:8080/"
        }
      },
      "outputs": [
        {
          "output_type": "stream",
          "name": "stdout",
          "text": [
            "+--------------------+-------------------------+\n",
            "|  message to examine|label (depression result)|\n",
            "+--------------------+-------------------------+\n",
            "|just had a real g...|                        0|\n",
            "|is reading manga ...|                        0|\n",
            "|@comeagainjen htt...|                        0|\n",
            "|@lapcat Need to s...|                        0|\n",
            "|ADD ME ON MYSPACE...|                        0|\n",
            "|so sleepy. good t...|                        0|\n",
            "|@SilkCharm re: #n...|                        0|\n",
            "|23 or 24ï¿½C poss...|                        0|\n",
            "|nite twitterville...|                        0|\n",
            "|@daNanner Night, ...|                        0|\n",
            "|Good morning ever...|                        0|\n",
            "|Finally! I just c...|                        0|\n",
            "|kisha they cnt ge...|                        0|\n",
            "|@nicolerichie Yes...|                        0|\n",
            "|I really love ref...|                        0|\n",
            "|@blueaero ooo it'...|                        0|\n",
            "|@rokchic28 no pro...|                        0|\n",
            "|@shipovalov &quot...|                        0|\n",
            "|Once again stayed...|                        0|\n",
            "|@Kal_Penn I just ...|                        0|\n",
            "+--------------------+-------------------------+\n",
            "only showing top 20 rows\n",
            "\n"
          ]
        }
      ],
      "source": [
        "df = df.drop(\"Index\")\n",
        "df.show()"
      ]
    },
    {
      "cell_type": "code",
      "execution_count": null,
      "metadata": {
        "id": "zfhO86iy9h9M",
        "outputId": "70067236-a036-4404-de4c-7ac72740fc17",
        "colab": {
          "base_uri": "https://localhost:8080/"
        }
      },
      "outputs": [
        {
          "output_type": "execute_result",
          "data": {
            "text/plain": [
              "StructType([StructField('message to examine', StringType(), True), StructField('label (depression result)', StringType(), True)])"
            ]
          },
          "metadata": {},
          "execution_count": 6
        }
      ],
      "source": [
        "df.schema"
      ]
    },
    {
      "cell_type": "code",
      "source": [
        "df = df.withColumn(\"text_cleaned\", regexp_replace(\"message to examine\", \"[^a-zA-Z0-9 ]\", \"\"))\n",
        "df.show(truncate=False)"
      ],
      "metadata": {
        "colab": {
          "base_uri": "https://localhost:8080/"
        },
        "id": "3lKGGi_rihhm",
        "outputId": "396a9c2e-2966-4013-bb0a-07a8221c8723"
      },
      "execution_count": null,
      "outputs": [
        {
          "output_type": "stream",
          "name": "stdout",
          "text": [
            "+---------------------------------------------------------------------------------------------------------------------------------------+-------------------------+-------------------------------------------------------------------------------------------------------------------------------+\n",
            "|message to examine                                                                                                                     |label (depression result)|text_cleaned                                                                                                                   |\n",
            "+---------------------------------------------------------------------------------------------------------------------------------------+-------------------------+-------------------------------------------------------------------------------------------------------------------------------+\n",
            "|just had a real good moment. i missssssssss him so much,                                                                               |0                        |just had a real good moment i missssssssss him so much                                                                         |\n",
            "|is reading manga  http://plurk.com/p/mzp1e                                                                                             |0                        |is reading manga  httpplurkcompmzp1e                                                                                           |\n",
            "|@comeagainjen http://twitpic.com/2y2lx - http://www.youtube.com/watch?v=zoGfqvh2ME8                                                    |0                        |comeagainjen httptwitpiccom2y2lx  httpwwwyoutubecomwatchvzoGfqvh2ME8                                                           |\n",
            "|@lapcat Need to send 'em to my accountant tomorrow. Oddly, I wasn't even referring to my taxes. Those are supporting evidence, though. |0                        |lapcat Need to send em to my accountant tomorrow Oddly I wasnt even referring to my taxes Those are supporting evidence though |\n",
            "|ADD ME ON MYSPACE!!!  myspace.com/LookThunder                                                                                          |0                        |ADD ME ON MYSPACE  myspacecomLookThunder                                                                                       |\n",
            "|so sleepy. good times tonight though                                                                                                   |0                        |so sleepy good times tonight though                                                                                            |\n",
            "|@SilkCharm re: #nbn as someone already said, does fiber to the home mean we will all at least be regular now                           |0                        |SilkCharm re nbn as someone already said does fiber to the home mean we will all at least be regular now                       |\n",
            "|23 or 24ï¿½C possible today. Nice                                                                                                      |0                        |23 or 24C possible today Nice                                                                                                  |\n",
            "|nite twitterville  workout in the am  -ciao                                                                                            |0                        |nite twitterville  workout in the am  ciao                                                                                     |\n",
            "|@daNanner Night, darlin'!  Sweet dreams to you                                                                                         |0                        |daNanner Night darlin  Sweet dreams to you                                                                                     |\n",
            "|Good morning everybody!                                                                                                                |0                        |Good morning everybody                                                                                                         |\n",
            "|Finally! I just created my WordPress Blog. There's already a blog up on the Seattle Coffee Community  ... http://tinyurl.com/c5uufd    |0                        |Finally I just created my WordPress Blog Theres already a blog up on the Seattle Coffee Community   httptinyurlcomc5uufd       |\n",
            "|kisha they cnt get over u til they get out frm under u just remember ur on top                                                         |0                        |kisha they cnt get over u til they get out frm under u just remember ur on top                                                 |\n",
            "|@nicolerichie Yes i remember that band, It was Awesome, Will you please reply                                                          |0                        |nicolerichie Yes i remember that band It was Awesome Will you please reply                                                     |\n",
            "|I really love reflections and shadows                                                                                                  |0                        |I really love reflections and shadows                                                                                          |\n",
            "|@blueaero ooo it's fantasy?  i like fantasy novels   will check it out                                                                 |0                        |blueaero ooo its fantasy  i like fantasy novels   will check it out                                                            |\n",
            "|@rokchic28 no probs, I sell nothing other than my blog http://snedwan.com  I'll have to get a listen to your band, on iTunes?          |0                        |rokchic28 no probs I sell nothing other than my blog httpsnedwancom  Ill have to get a listen to your band on iTunes           |\n",
            "|@shipovalov &quot;NOKLA connecting people&quot; ?? ???????  ???????                                                                    |0                        |shipovalov quotNOKLA connecting peoplequot                                                                                     |\n",
            "|Once again stayed up to late and have to start too early  It is a good thing I like my job                                             |0                        |Once again stayed up to late and have to start too early  It is a good thing I like my job                                     |\n",
            "|@Kal_Penn I just read about your new job, CONGRATULATIONS!  That's fantastic.                                                          |0                        |KalPenn I just read about your new job CONGRATULATIONS  Thats fantastic                                                        |\n",
            "+---------------------------------------------------------------------------------------------------------------------------------------+-------------------------+-------------------------------------------------------------------------------------------------------------------------------+\n",
            "only showing top 20 rows\n",
            "\n"
          ]
        }
      ]
    },
    {
      "cell_type": "code",
      "execution_count": null,
      "metadata": {
        "id": "l_Onl9Kj9P7H"
      },
      "outputs": [],
      "source": [
        "tokenizer = Tokenizer(inputCol=\"text_cleaned\", outputCol=\"words\")\n",
        "remover = StopWordsRemover(inputCol=\"words\", outputCol=\"filtered_words\")\n",
        "vectorizer = CountVectorizer(inputCol=\"filtered_words\", outputCol=\"features\")"
      ]
    },
    {
      "cell_type": "code",
      "execution_count": null,
      "metadata": {
        "id": "V37mn74i9p6C"
      },
      "outputs": [],
      "source": [
        "pipeline = Pipeline(stages=[tokenizer, remover, vectorizer])\n",
        "model = pipeline.fit(df)\n",
        "data = model.transform(df)"
      ]
    },
    {
      "cell_type": "code",
      "execution_count": null,
      "metadata": {
        "id": "H1w6Sz-r-9PL",
        "outputId": "6177cf24-896e-4882-f6f0-294363e333df",
        "colab": {
          "base_uri": "https://localhost:8080/"
        }
      },
      "outputs": [
        {
          "output_type": "stream",
          "name": "stdout",
          "text": [
            "+--------------------+-------------------------+--------------------+--------------------+--------------------+--------------------+\n",
            "|  message to examine|label (depression result)|        text_cleaned|               words|      filtered_words|            features|\n",
            "+--------------------+-------------------------+--------------------+--------------------+--------------------+--------------------+\n",
            "|just had a real g...|                        0|just had a real g...|[just, had, a, re...|[real, good, mome...|(23437,[3,27,112,...|\n",
            "|is reading manga ...|                        0|is reading manga ...|[is, reading, man...|[reading, manga, ...|(23437,[0,393,141...|\n",
            "|@comeagainjen htt...|                        0|comeagainjen http...|[comeagainjen, ht...|[comeagainjen, ht...|(23437,[0,3322,66...|\n",
            "|@lapcat Need to s...|                        0|lapcat Need to se...|[lapcat, need, to...|[lapcat, need, se...|(23437,[43,65,71,...|\n",
            "|ADD ME ON MYSPACE...|                        0|ADD ME ON MYSPACE...|[add, me, on, mys...|[add, myspace, , ...|(23437,[0,315,594...|\n",
            "|so sleepy. good t...|                        0|so sleepy good ti...|[so, sleepy, good...|[sleepy, good, ti...|(23437,[3,96,104,...|\n",
            "|@SilkCharm re: #n...|                        0|SilkCharm re nbn ...|[silkcharm, re, n...|[silkcharm, re, n...|(23437,[60,85,150...|\n",
            "|23 or 24ï¿½C poss...|                        0|23 or 24C possibl...|[23, or, 24c, pos...|[23, 24c, possibl...|(23437,[18,61,108...|\n",
            "|nite twitterville...|                        0|nite twitterville...|[nite, twittervil...|[nite, twittervil...|(23437,[0,608,119...|\n",
            "|@daNanner Night, ...|                        0|daNanner Night da...|[dananner, night,...|[dananner, night,...|(23437,[0,28,231,...|\n",
            "|Good morning ever...|                        0|Good morning ever...|[good, morning, e...|[good, morning, e...|(23437,[3,41,630]...|\n",
            "|Finally! I just c...|                        0|Finally I just cr...|[finally, i, just...|[finally, created...|(23437,[0,140,150...|\n",
            "|kisha they cnt ge...|                        0|kisha they cnt ge...|[kisha, they, cnt...|[kisha, cnt, get,...|(23437,[7,16,113,...|\n",
            "|@nicolerichie Yes...|                        0|nicolerichie Yes ...|[nicolerichie, ye...|[nicolerichie, ye...|(23437,[69,78,81,...|\n",
            "|I really love ref...|                        0|I really love ref...|[i, really, love,...|[really, love, re...|(23437,[6,25,2994...|\n",
            "|@blueaero ooo it'...|                        0|blueaero ooo its ...|[blueaero, ooo, i...|[blueaero, ooo, f...|(23437,[0,5,119,2...|\n",
            "|@rokchic28 no pro...|                        0|rokchic28 no prob...|[rokchic28, no, p...|[rokchic28, probs...|(23437,[0,7,35,13...|\n",
            "|@shipovalov &quot...|                        0|shipovalov quotNO...|[shipovalov, quot...|[shipovalov, quot...|(23437,[3049,1260...|\n",
            "|Once again stayed...|                        0|Once again stayed...|[once, again, sta...|[stayed, late, st...|(23437,[0,3,5,92,...|\n",
            "|@Kal_Penn I just ...|                        0|KalPenn I just re...|[kalpenn, i, just...|[kalpenn, read, n...|(23437,[0,22,39,1...|\n",
            "+--------------------+-------------------------+--------------------+--------------------+--------------------+--------------------+\n",
            "only showing top 20 rows\n",
            "\n"
          ]
        }
      ],
      "source": [
        "data.show()"
      ]
    },
    {
      "cell_type": "code",
      "execution_count": null,
      "metadata": {
        "id": "7LAIjFbn-yun"
      },
      "outputs": [],
      "source": [
        "from pyspark.ml.feature import StringIndexer"
      ]
    },
    {
      "cell_type": "code",
      "execution_count": null,
      "metadata": {
        "id": "rj9nsxv8-5dA",
        "outputId": "60b2531c-647b-4c1a-9941-f6984e3d5bcf",
        "colab": {
          "base_uri": "https://localhost:8080/"
        }
      },
      "outputs": [
        {
          "output_type": "stream",
          "name": "stdout",
          "text": [
            "+--------------------+--------------------+--------------------+--------------------+--------------------+-----+\n",
            "|  message to examine|        text_cleaned|               words|      filtered_words|            features|label|\n",
            "+--------------------+--------------------+--------------------+--------------------+--------------------+-----+\n",
            "|just had a real g...|just had a real g...|[just, had, a, re...|[real, good, mome...|(23437,[3,27,112,...|  0.0|\n",
            "|is reading manga ...|is reading manga ...|[is, reading, man...|[reading, manga, ...|(23437,[0,393,141...|  0.0|\n",
            "|@comeagainjen htt...|comeagainjen http...|[comeagainjen, ht...|[comeagainjen, ht...|(23437,[0,3322,66...|  0.0|\n",
            "|@lapcat Need to s...|lapcat Need to se...|[lapcat, need, to...|[lapcat, need, se...|(23437,[43,65,71,...|  0.0|\n",
            "|ADD ME ON MYSPACE...|ADD ME ON MYSPACE...|[add, me, on, mys...|[add, myspace, , ...|(23437,[0,315,594...|  0.0|\n",
            "|so sleepy. good t...|so sleepy good ti...|[so, sleepy, good...|[sleepy, good, ti...|(23437,[3,96,104,...|  0.0|\n",
            "|@SilkCharm re: #n...|SilkCharm re nbn ...|[silkcharm, re, n...|[silkcharm, re, n...|(23437,[60,85,150...|  0.0|\n",
            "|23 or 24ï¿½C poss...|23 or 24C possibl...|[23, or, 24c, pos...|[23, 24c, possibl...|(23437,[18,61,108...|  0.0|\n",
            "|nite twitterville...|nite twitterville...|[nite, twittervil...|[nite, twittervil...|(23437,[0,608,119...|  0.0|\n",
            "|@daNanner Night, ...|daNanner Night da...|[dananner, night,...|[dananner, night,...|(23437,[0,28,231,...|  0.0|\n",
            "|Good morning ever...|Good morning ever...|[good, morning, e...|[good, morning, e...|(23437,[3,41,630]...|  0.0|\n",
            "|Finally! I just c...|Finally I just cr...|[finally, i, just...|[finally, created...|(23437,[0,140,150...|  0.0|\n",
            "|kisha they cnt ge...|kisha they cnt ge...|[kisha, they, cnt...|[kisha, cnt, get,...|(23437,[7,16,113,...|  0.0|\n",
            "|@nicolerichie Yes...|nicolerichie Yes ...|[nicolerichie, ye...|[nicolerichie, ye...|(23437,[69,78,81,...|  0.0|\n",
            "|I really love ref...|I really love ref...|[i, really, love,...|[really, love, re...|(23437,[6,25,2994...|  0.0|\n",
            "|@blueaero ooo it'...|blueaero ooo its ...|[blueaero, ooo, i...|[blueaero, ooo, f...|(23437,[0,5,119,2...|  0.0|\n",
            "|@rokchic28 no pro...|rokchic28 no prob...|[rokchic28, no, p...|[rokchic28, probs...|(23437,[0,7,35,13...|  0.0|\n",
            "|@shipovalov &quot...|shipovalov quotNO...|[shipovalov, quot...|[shipovalov, quot...|(23437,[3049,1260...|  0.0|\n",
            "|Once again stayed...|Once again stayed...|[once, again, sta...|[stayed, late, st...|(23437,[0,3,5,92,...|  0.0|\n",
            "|@Kal_Penn I just ...|KalPenn I just re...|[kalpenn, i, just...|[kalpenn, read, n...|(23437,[0,22,39,1...|  0.0|\n",
            "+--------------------+--------------------+--------------------+--------------------+--------------------+-----+\n",
            "only showing top 20 rows\n",
            "\n"
          ]
        }
      ],
      "source": [
        "indexer = StringIndexer(inputCol=\"label (depression result)\", outputCol=\"label\")\n",
        "data = indexer.fit(data).transform(data)\n",
        "data=data.drop(\"label (depression result)\")\n",
        "data.show()"
      ]
    },
    {
      "cell_type": "markdown",
      "source": [
        "Applying ML model for the given dataset"
      ],
      "metadata": {
        "id": "EK6qvLkhlb0G"
      }
    },
    {
      "cell_type": "code",
      "execution_count": null,
      "metadata": {
        "id": "DX8tHnbH9ysG"
      },
      "outputs": [],
      "source": [
        "train_data, test_data = data.randomSplit([0.8, 0.2], seed=123)"
      ]
    },
    {
      "cell_type": "markdown",
      "source": [
        "Applying Naive Baeyes algorithm"
      ],
      "metadata": {
        "id": "90b6J0ZLlrI5"
      }
    },
    {
      "cell_type": "code",
      "execution_count": null,
      "metadata": {
        "id": "sucHjbUD94tt"
      },
      "outputs": [],
      "source": [
        "nb = NaiveBayes()\n",
        "sentiment_analyzer = nb.fit(train_data)"
      ]
    },
    {
      "cell_type": "code",
      "execution_count": null,
      "metadata": {
        "id": "tfzET_x796c5",
        "outputId": "ef41941b-4f2b-4f2e-8517-919fb299caf8",
        "colab": {
          "base_uri": "https://localhost:8080/"
        }
      },
      "outputs": [
        {
          "output_type": "stream",
          "name": "stdout",
          "text": [
            "+--------------------+--------------------+--------------------+--------------------+--------------------+-----+--------------------+--------------------+----------+\n",
            "|  message to examine|        text_cleaned|               words|      filtered_words|            features|label|       rawPrediction|         probability|prediction|\n",
            "+--------------------+--------------------+--------------------+--------------------+--------------------+-----+--------------------+--------------------+----------+\n",
            "| I'm happy and co...| Im happy and con...|[, im, happy, and...|[, im, happy, con...|(23437,[0,2,29,85...|  0.0|[-24.131446298922...|[0.92811315904895...|       0.0|\n",
            "| Stray Cats ~ Str...| Stray Cats  Stra...|[, stray, cats, ,...|[, stray, cats, ,...|(23437,[0,795,131...|  0.0|[-73.477773281516...|[0.72289166139073...|       0.0|\n",
            "| http://www.zav.c...| httpwwwzavczzave...|[, httpwwwzavczza...|[, httpwwwzavczza...|(23437,[0,1,3,5,8...|  1.0|[-225.04244304370...|[0.18391010023833...|       1.0|\n",
            "| https://fyi.org....| httpsfyiorgnzreq...|[, httpsfyiorgnzr...|[, httpsfyiorgnzr...|(23437,[0,1,1278,...|  1.0|[-110.19675444095...|[5.26758684067709...|       1.0|\n",
            "| https://www.goog...| httpswwwgoogleco...|[, httpswwwgoogle...|[, httpswwwgoogle...|(23437,[0,1,360,8...|  1.0|[-89.311704508972...|[4.03640149344855...|       1.0|\n",
            "| last thing befor...| last thing befor...|[, last, thing, b...|[, last, thing, k...|(23437,[0,10,57,5...|  0.0|[-46.602331624984...|[0.99728659386302...|       0.0|\n",
            "| the oc http://my...| the oc httpmypic...|[, the, oc, httpm...|[, oc, httpmypict...|(23437,[0,5789,76...|  0.0|[-25.102422800816...|[0.85457378496916...|       0.0|\n",
            "| the ones with th...| the ones with th...|[, the, ones, wit...|[, ones, greatest...|(23437,[0,3,408,4...|  0.0|[-85.470506763070...|[0.95718947123462...|       0.0|\n",
            "| well i'm going a...| well im going ag...|[, well, im, goin...|[, well, im, goin...|(23437,[0,2,7,13,...|  0.0|[-87.590020554032...|[0.99998708201116...|       0.0|\n",
            "|\"#NYCDCC- In reco...|NYCDCC In recogni...|[nycdcc, in, reco...|[nycdcc, recognit...|(23437,[1,37,74,9...|  2.0|[-217.37530426372...|[6.88959780169318...|       1.0|\n",
            "|\"(...ourselves th...|ourselves that we...|[ourselves, that,...|[need, help, some...|(23437,[43,63,72,...|  3.0|[-46.963620180463...|[0.67516798646750...|       0.0|\n",
            "|\"@JoyceAnnWert it...|JoyceAnnWert it m...|[joyceannwert, it...|[joyceannwert, ma...|(23437,[1,2,8,12,...|  1.0|[-223.68469597098...|[2.64117985791445...|       1.0|\n",
            "|\"Are you experien...|Are you experienc...|[are, you, experi...|[experiencing, ho...|(23437,[0,1,21,38...|  1.0|[-236.41769674957...|[3.00518937605502...|       1.0|\n",
            "|\"Marriage does no...|Marriage does not...|[marriage, does, ...|[marriage, preclu...|(23437,[0,13,56,2...|  1.0|[-200.41300115756...|[6.69592801944282...|       1.0|\n",
            "|#2 son came home ...|2 son came home f...|[2, son, came, ho...|[2, son, came, ho...|(23437,[40,60,348...|  0.0|[-91.070781361812...|[0.98687489582594...|       0.0|\n",
            "|#Alexa, ask Weed ...|Alexa ask Weed Bu...|[alexa, ask, weed...|[alexa, ask, weed...|(23437,[0,1,330,3...|  1.0|[-86.222446177407...|[1.53417493434355...|       1.0|\n",
            "|#Followfriday @Th...|Followfriday TheP...|[followfriday, th...|[followfriday, th...|(23437,[504,6230,...|  0.0|[-97.688140262672...|[0.28960975720204...|       0.0|\n",
            "|#HealthNews - Mor...|HealthNews  More ...|[healthnews, , mo...|[healthnews, , 1,...|(23437,[0,1,15,68...|  1.0|[-95.773549294959...|[2.32643055673915...|       1.0|\n",
            "|#MTV lol, @georgi...|MTV lol georgienb...|[mtv, lol, georgi...|[mtv, lol, georgi...|(23437,[2,8,9,26,...|  0.0|[-64.500415417097...|[0.99867202686528...|       0.0|\n",
            "|#TMS Therapy is a...|TMS Therapy is a ...|[tms, therapy, is...|[tms, therapy, sa...|(23437,[0,1,18,42...|  1.0|[-165.25571984456...|[1.79540768247359...|       1.0|\n",
            "+--------------------+--------------------+--------------------+--------------------+--------------------+-----+--------------------+--------------------+----------+\n",
            "only showing top 20 rows\n",
            "\n"
          ]
        }
      ],
      "source": [
        "predictions = sentiment_analyzer.transform(test_data)\n",
        "predictions.show()"
      ]
    },
    {
      "cell_type": "markdown",
      "source": [
        "Comparison of accuracy of ML models such as Logistic Regression, Naive Bayes and Random Forest Classifier for the given dataset"
      ],
      "metadata": {
        "id": "5TY-kTvMmDBY"
      }
    },
    {
      "cell_type": "code",
      "source": [
        "from pyspark.ml.classification import LogisticRegression, NaiveBayes, RandomForestClassifier\n",
        "from pyspark.ml.evaluation import MulticlassClassificationEvaluator\n",
        "\n",
        "models = [LogisticRegression(), NaiveBayes(), RandomForestClassifier()]\n",
        "l=[]\n",
        "for model in models:\n",
        "    model_name = model.__class__.__name__\n",
        "    print(f\"Training {model_name}...\")\n",
        "    model_fit = model.fit(train_data)\n",
        "    predictions = model_fit.transform(test_data)\n",
        "    evaluator = MulticlassClassificationEvaluator(labelCol=\"label\", predictionCol=\"prediction\", metricName=\"accuracy\")\n",
        "    accuracy = evaluator.evaluate(predictions)\n",
        "    print(f\"Accuracy for {model_name}: {accuracy}\")\n",
        "    l.append(accuracy)"
      ],
      "metadata": {
        "id": "v5x076Jk1qZT",
        "colab": {
          "base_uri": "https://localhost:8080/"
        },
        "outputId": "d0d08147-6c88-44c7-f975-56d539bf9616"
      },
      "execution_count": null,
      "outputs": [
        {
          "output_type": "stream",
          "name": "stdout",
          "text": [
            "Training LogisticRegression...\n",
            "Accuracy for LogisticRegression: 0.9608404966571156\n",
            "Training NaiveBayes...\n",
            "Accuracy for NaiveBayes: 0.9656160458452722\n",
            "Training RandomForestClassifier...\n",
            "Accuracy for RandomForestClassifier: 0.7722063037249284\n"
          ]
        }
      ]
    },
    {
      "cell_type": "code",
      "source": [
        "lr = LogisticRegression()\n",
        "nb = NaiveBayes()\n",
        "rf = RandomForestClassifier()"
      ],
      "metadata": {
        "id": "6B4tT_Ka0wjV"
      },
      "execution_count": null,
      "outputs": []
    },
    {
      "cell_type": "code",
      "source": [
        "evaluator = MulticlassClassificationEvaluator(labelCol=\"label\", predictionCol=\"prediction\", metricName=\"accuracy\")"
      ],
      "metadata": {
        "id": "6gExOteYrNwJ"
      },
      "execution_count": null,
      "outputs": []
    },
    {
      "cell_type": "markdown",
      "source": [
        "Hyper parameter tuning for logistic regression"
      ],
      "metadata": {
        "id": "esyIlb4HmuFA"
      }
    },
    {
      "cell_type": "code",
      "execution_count": null,
      "metadata": {
        "id": "R6ky-gNsCQ75"
      },
      "outputs": [],
      "source": [
        "lr_param_grid = (ParamGridBuilder()\n",
        "    .addGrid(lr.maxIter, [10, 50, 100])\n",
        "    .addGrid(lr.regParam, [0.01, 0.1, 0.2])\n",
        "    .build())"
      ]
    },
    {
      "cell_type": "code",
      "source": [
        "tvs1 = TrainValidationSplit(estimator=lr, evaluator=evaluator, estimatorParamMaps=lr_param_grid, trainRatio=0.8)"
      ],
      "metadata": {
        "id": "osSi_9oKkSQ3"
      },
      "execution_count": null,
      "outputs": []
    },
    {
      "cell_type": "code",
      "source": [
        "tvs1_model1 = tvs1.fit(train_data)\n",
        "best_model = tvs1_model1.bestModel"
      ],
      "metadata": {
        "id": "4-pRWseanFwH"
      },
      "execution_count": null,
      "outputs": []
    },
    {
      "cell_type": "code",
      "source": [
        "best_predictions = best_model.transform(test_data)\n",
        "best_accuracy = evaluator.evaluate(best_predictions)\n",
        "print(f\"Best Model Accuracy: {best_accuracy}\")"
      ],
      "metadata": {
        "colab": {
          "base_uri": "https://localhost:8080/"
        },
        "id": "85tS8JZbnS93",
        "outputId": "b28e4b03-f4d3-4deb-8a23-194de818c863"
      },
      "execution_count": null,
      "outputs": [
        {
          "output_type": "stream",
          "name": "stdout",
          "text": [
            "Best Model Accuracy: 0.9708691499522445\n"
          ]
        }
      ]
    },
    {
      "cell_type": "markdown",
      "source": [
        "Hyper parameter tuning for Naive baeyes algorithm"
      ],
      "metadata": {
        "id": "WHhS30YEoCPM"
      }
    },
    {
      "cell_type": "code",
      "source": [
        "nb_param_grid = (ParamGridBuilder()\n",
        "    .addGrid(nb.smoothing, [0.1, 0.01, 0.001])\n",
        "    .build())"
      ],
      "metadata": {
        "id": "-Yj1mWTFn9vq"
      },
      "execution_count": null,
      "outputs": []
    },
    {
      "cell_type": "code",
      "source": [
        "tvs2 = TrainValidationSplit(\n",
        "    estimator=nb,\n",
        "    estimatorParamMaps=nb_param_grid,\n",
        "    evaluator=evaluator,\n",
        "    trainRatio=0.8)"
      ],
      "metadata": {
        "id": "5tBpQ6imoS1Z"
      },
      "execution_count": null,
      "outputs": []
    },
    {
      "cell_type": "code",
      "source": [
        "tvs2_model = tvs2.fit(train_data)"
      ],
      "metadata": {
        "id": "775dYXYTpaKx"
      },
      "execution_count": null,
      "outputs": []
    },
    {
      "cell_type": "code",
      "source": [
        "best_nb_model = tvs2_model.bestModel\n",
        "best_nb_predictions = best_nb_model.transform(test_data)\n",
        "best_nb_accuracy = evaluator.evaluate(best_nb_predictions)\n",
        "print(f\"Best Naive Bayes Model Accuracy: {best_nb_accuracy}\")"
      ],
      "metadata": {
        "colab": {
          "base_uri": "https://localhost:8080/"
        },
        "id": "xuDV2F1MpqK7",
        "outputId": "52429c17-df5d-4e0b-ab14-a3145b17c2bc"
      },
      "execution_count": null,
      "outputs": [
        {
          "output_type": "stream",
          "name": "stdout",
          "text": [
            "Best Naive Bayes Model Accuracy: 0.9159503342884432\n"
          ]
        }
      ]
    },
    {
      "cell_type": "code",
      "source": [
        "param_grid = (ParamGridBuilder()\n",
        "    .addGrid(rf.maxDepth, [5, 10, 15])\n",
        "    .addGrid(rf.numTrees, [10, 20, 30])\n",
        "    .addGrid(rf.featureSubsetStrategy, ['auto', 'sqrt', 'log2'])\n",
        "    .build())"
      ],
      "metadata": {
        "id": "-7JX_IuzpyBZ"
      },
      "execution_count": null,
      "outputs": []
    },
    {
      "cell_type": "code",
      "source": [
        "tvs3 = TrainValidationSplit(\n",
        "    estimator=rf,\n",
        "    estimatorParamMaps=param_grid,\n",
        "    evaluator=evaluator,\n",
        "    trainRatio=0.8)"
      ],
      "metadata": {
        "id": "3rFtXqpWrd7G"
      },
      "execution_count": null,
      "outputs": []
    },
    {
      "cell_type": "code",
      "source": [
        "tvs3_model = tvs3.fit(train_data)"
      ],
      "metadata": {
        "id": "OdcqE9yTrkK4"
      },
      "execution_count": null,
      "outputs": []
    },
    {
      "cell_type": "code",
      "source": [
        "best_rf_model = tvs3_model.bestModel\n",
        "best_rf_predictions = best_rf_model.transform(test_data)\n",
        "best_rf_accuracy = evaluator.evaluate(best_rf_predictions)\n",
        "print(f\"Best Random Forest Model Accuracy: {best_rf_accuracy}\")"
      ],
      "metadata": {
        "colab": {
          "base_uri": "https://localhost:8080/"
        },
        "id": "RvDOjJqyrolN",
        "outputId": "85b85b07-3f1f-435f-849f-c97d32684658"
      },
      "execution_count": null,
      "outputs": [
        {
          "output_type": "stream",
          "name": "stdout",
          "text": [
            "Best Random Forest Model Accuracy: 0.7817574021012417\n"
          ]
        }
      ]
    },
    {
      "cell_type": "code",
      "source": [
        "import matplotlib.pyplot as plt"
      ],
      "metadata": {
        "id": "ZFGokRhCr10x"
      },
      "execution_count": null,
      "outputs": []
    },
    {
      "cell_type": "code",
      "source": [
        "models = ['Logistic Regression','Naive baeyes','Random Forest']\n",
        "print('ACCURACY BEFORE HYPER PARAMETER TUNING : \\n')\n",
        "plt.ylim(0,1.0)\n",
        "plt.bar(models,l)"
      ],
      "metadata": {
        "colab": {
          "base_uri": "https://localhost:8080/",
          "height": 490
        },
        "id": "xe-YATAHqdSh",
        "outputId": "7274461c-569f-44ac-cc4e-3ed3d96462ea"
      },
      "execution_count": null,
      "outputs": [
        {
          "output_type": "stream",
          "name": "stdout",
          "text": [
            "ACCURACY AFTER HYPER PARAMETER TUNING : \n",
            "\n"
          ]
        },
        {
          "output_type": "execute_result",
          "data": {
            "text/plain": [
              "<BarContainer object of 3 artists>"
            ]
          },
          "metadata": {},
          "execution_count": 41
        },
        {
          "output_type": "display_data",
          "data": {
            "text/plain": [
              "<Figure size 640x480 with 1 Axes>"
            ],
            "image/png": "[encoded data removed]"
          },
          "metadata": {}
        }
      ]
    },
    {
      "cell_type": "code",
      "source": [
        "acc = [best_accuracy,best_nb_accuracy,best_rf_accuracy]\n",
        "models = ['Logistic Regression','Naive baeyes','Random Forest']\n",
        "print('ACCURACY AFTER HYPER PARAMETER TUNING : \\n')\n",
        "plt.ylim(0,1.0)\n",
        "plt.bar(models,acc)"
      ],
      "metadata": {
        "colab": {
          "base_uri": "https://localhost:8080/",
          "height": 490
        },
        "id": "KgaAeBh3n-Qa",
        "outputId": "b280872f-61ed-49a4-b6da-afb0f737af77"
      },
      "execution_count": null,
      "outputs": [
        {
          "output_type": "stream",
          "name": "stdout",
          "text": [
            "ACCURACY AFTER HYPER PARAMETER TUNING : \n",
            "\n"
          ]
        },
        {
          "output_type": "execute_result",
          "data": {
            "text/plain": [
              "<BarContainer object of 3 artists>"
            ]
          },
          "metadata": {},
          "execution_count": 39
        },
        {
          "output_type": "display_data",
          "data": {
            "text/plain": [
              "<Figure size 640x480 with 1 Axes>"
            ],
            "image/png": "[encoded data removed]"
          },
          "metadata": {}
        }
      ]
    },
    {
      "cell_type": "code",
      "source": [],
      "metadata": {
        "id": "lWsUTLjUoyDW"
      },
      "execution_count": null,
      "outputs": []
    }
  ],
  "metadata": {
    "colab": {
      "provenance": []
    },
    "kernelspec": {
      "display_name": "Python 3",
      "name": "python3"
    },
    "language_info": {
      "name": "python"
    }
  },
  "nbformat": 4,
  "nbformat_minor": 0
}